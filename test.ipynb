{
 "cells": [
  {
   "cell_type": "code",
   "execution_count": null,
   "id": "c8996470",
   "metadata": {},
   "outputs": [],
   "source": [
    "import sqlite3\n",
    "import pandas as pd \n",
    "from langchain.prompts import FewShotPromptTemplate,PromptTemplate\n",
    "from langchain.chains import LLMChain\n",
    "from langchain.chat_models import ChatOpenAI\n",
    "#from langchain.schema import HummanMessage\n",
    "from langchain.vectorstores import FAISS\n",
    "from langchain.embeddings import OpenAIEmbeddings\n",
    "import os\n",
    "import matplotlib.pyplot as plt\n",
    "\n"
   ]
  },
  {
   "cell_type": "markdown",
   "id": "5433b895",
   "metadata": {},
   "source": [
    "### Lets Create a Dummy Dataset"
   ]
  },
  {
   "cell_type": "code",
   "execution_count": 5,
   "id": "9905f4bf",
   "metadata": {},
   "outputs": [],
   "source": [
    "conn=sqlite3.connect(\"my_data.db\")\n",
    "cursor=conn.cursor()"
   ]
  },
  {
   "cell_type": "code",
   "execution_count": 6,
   "id": "ea019ca6",
   "metadata": {},
   "outputs": [],
   "source": [
    "# Define table schemas\n",
    "schema_statements = {\n",
    "    \"alarm_data\": \"\"\"\n",
    "    CREATE TABLE IF NOT EXISTS alarm_data (\n",
    "        alarm_id TEXT, site_id TEXT, alarm_type TEXT, severity TEXT, timestamp TEXT\n",
    "    );\n",
    "    \"\"\",\n",
    "    \"incident_data\": \"\"\"\n",
    "    CREATE TABLE IF NOT EXISTS incident_data (\n",
    "        incident_id TEXT, site_id TEXT, incident_type TEXT, status TEXT, opened_at TEXT, closed_at TEXT\n",
    "    );\n",
    "    \"\"\",\n",
    "    \"work_order\": \"\"\"\n",
    "    CREATE TABLE IF NOT EXISTS work_order (\n",
    "        wo_id TEXT, site_id TEXT, work_type TEXT, status TEXT, created_at TEXT, closed_at TEXT\n",
    "    );\n",
    "    \"\"\",\n",
    "    \"network_traffic\": \"\"\"\n",
    "    CREATE TABLE IF NOT EXISTS network_traffic (\n",
    "        site_id TEXT, date TEXT, voice_traffic INTEGER, data_traffic INTEGER\n",
    "    );\n",
    "    \"\"\",\n",
    "    \"network_availability\": \"\"\"\n",
    "    CREATE TABLE IF NOT EXISTS network_availability (\n",
    "        site_id TEXT, date TEXT, availability_percent REAL\n",
    "    );\n",
    "    \"\"\",\n",
    "    \"kpi_summary\": \"\"\"\n",
    "    CREATE TABLE IF NOT EXISTS kpi_summary (\n",
    "        date TEXT, total_alarms INTEGER, total_incidents INTEGER, total_wos INTEGER, avg_availability REAL\n",
    "    );\n",
    "    \"\"\"\n",
    "}\n",
    " "
   ]
  },
  {
   "cell_type": "code",
   "execution_count": 7,
   "id": "d2280e65",
   "metadata": {},
   "outputs": [],
   "source": [
    "# Execute Schema Creation\n",
    "for smt in schema_statements.values():\n",
    "    cursor.execute(smt)"
   ]
  },
  {
   "cell_type": "code",
   "execution_count": 11,
   "id": "02879d1d",
   "metadata": {},
   "outputs": [
    {
     "name": "stdout",
     "output_type": "stream",
     "text": [
      "DB is created with sample data\n"
     ]
    }
   ],
   "source": [
    "# Insert Sample data\n",
    "cursor.executescript(\"\"\"\n",
    "-- Clear previous data if any \n",
    "DELETE FROM alarm_data;\n",
    "DELETE FROM incident_data;\n",
    "DELETE FROM work_order;\n",
    "DELETE FROM network_traffic;\n",
    "DELETE FROM network_availability;\n",
    "DELETE FROM kpi_summary;\n",
    "\n",
    "-- Insert alarm_data\n",
    "INSERT INTO alarm_data VALUES\n",
    "('A101','S001','Power Failure','Critical','2025-04-01'),\n",
    "('A102','S001','Link Down','Major','2025-04-02'),\n",
    "('A103','S002','Signal Loss','Minor','2025-04-03'),\n",
    "('A104','S003','Overload','Major','2025-04-04'),\n",
    "('A105','S002','Power Failure','Critical','2025-04-05'),\n",
    "('A106','S004','Link Down','Warning','2025-04-06'),\n",
    "('A107','S001','Overload','Major','2025-04-07'),\n",
    "('A108','S005','Power Failure','Minor','2025-04-08'),\n",
    "('A109','S003','Link Down','Critical','2025-04-09'),\n",
    "('A110','S004','Signal Loss','Major','2025-04-10'),\n",
    "('A111','S005','Overload','Warning','2025-04-11'),\n",
    "('A112','S002','Power Failure','Critical','2025-04-12'),\n",
    "('A113','S003','Link Down','Minor','2025-04-13'),\n",
    "('A114','S004','Signal Loss','Major','2025-04-14'),\n",
    "('A115','S001','Overload','Critical','2025-04-15'),\n",
    "('A116','S005','Power Failure','Minor','2025-04-16'),\n",
    "('A117','S002','Link Down','Major','2025-04-17'),\n",
    "('A118','S003','Signal Loss','Critical','2025-04-18'),\n",
    "('A119','S001','Overload','Minor','2025-04-19'),\n",
    "('A120','S004','Power Failure','Warning','2025-04-20'),\n",
    "('A118','S003','Signal Loss','Critical','2025-04-21'),\n",
    "('A119','S001','Overload','Minor','2025-04-22'),\n",
    "('A120','S004','Power Failure','Warning','2025-04-22');\n",
    "\n",
    "-- Insert incident_data\n",
    "INSERT INTO incident_data VALUES\n",
    "('I201','S001','Link Failure','Closed','2025-04-01','2025-04-01'),\n",
    "('I202','S002','Power Issue','Open','2025-04-02','2025-04-03'),\n",
    "('I203','S003','Performance Issue','Closed','2025-04-03','2025-04-04'),\n",
    "('I204','S004','Security Alert','Closed','2025-04-04','2025-04-05'),\n",
    "('I205','S005','Link Failure','Open','2025-04-05','2025-04-06'),\n",
    "('I206','S001','Signal Drop','In Progress','2025-04-06','2025-04-07'),\n",
    "('I207','S002','Outage','Closed','2025-04-07','2025-04-08'),\n",
    "('I208','S003','Latency Issue','Open','2025-04-08','2025-04-09'),\n",
    "('I209','S004','Packet Loss','Closed','2025-04-09','2025-04-10'),\n",
    "('I210','S005','Routing Error','Closed','2025-04-10','2025-04-11'),\n",
    "('I211','S001','Firewall Block','Closed','2025-04-11','2025-04-12'),\n",
    "('I212','S002','System Reboot','Open','2025-04-12','2025-04-13'),\n",
    "('I213','S003','Network Loop','Closed','2025-04-13','2025-04-14'),\n",
    "('I214','S004','Hardware Fault','Closed','2025-04-14','2025-04-15'),\n",
    "('I215','S005','Signal Drop','Closed','2025-04-15','2025-04-16'),\n",
    "('I216','S001','Data Delay','Open','2025-04-16','2025-04-17'),\n",
    "('I217','S002','Signal Error','Closed','2025-04-17','2025-04-18'),\n",
    "('I218','S003','VPN Issue','Closed','2025-04-18','2025-04-19'),\n",
    "('I219','S004','Firmware Error','Open','2025-04-22','2025-04-20'),\n",
    "('I220','S005','Access Failure','Closed','2025-04-22','2025-04-21');\n",
    "\n",
    "-- Insert work_order\n",
    "INSERT INTO work_order VALUES\n",
    "('WO101','S001','Repair','Closed','2025-04-01','2025-04-02'),\n",
    "('WO102','S002','Upgrade','Open','2025-04-02','2025-04-03'),\n",
    "('WO103','S003','Inspection','Closed','2025-04-03','2025-04-04'),\n",
    "('WO104','S004','Repair','Closed','2025-04-04','2025-04-05'),\n",
    "('WO105','S005','Upgrade','Open','2025-04-05','2025-04-06'),\n",
    "('WO106','S001','Inspection','In Progress','2025-04-06','2025-04-07'),\n",
    "('WO107','S002','Repair','Closed','2025-04-07','2025-04-08'),\n",
    "('WO108','S003','Upgrade','Open','2025-04-08','2025-04-09'),\n",
    "('WO109','S004','Inspection','Closed','2025-04-09','2025-04-10'),\n",
    "('WO110','S005','Repair','Closed','2025-04-10','2025-04-11'),\n",
    "('WO111','S001','Upgrade','Closed','2025-04-11','2025-04-12'),\n",
    "('WO112','S002','Inspection','Open','2025-04-12','2025-04-13'),\n",
    "('WO113','S003','Repair','Closed','2025-04-13','2025-04-14'),\n",
    "('WO114','S004','Upgrade','Closed','2025-04-14','2025-04-15'),\n",
    "('WO115','S005','Inspection','Closed','2025-04-15','2025-04-16'),\n",
    "('WO116','S001','Repair','Open','2025-04-16','2025-04-17'),\n",
    "('WO117','S002','Upgrade','Closed','2025-04-17','2025-04-18'),\n",
    "('WO118','S003','Inspection','Closed','2025-04-22','2025-04-19'),\n",
    "('WO119','S004','Repair','Open','2025-04-21','2025-04-20'),\n",
    "('WO120','S005','Upgrade','Closed','2025-04-22','2025-04-21');\n",
    "\n",
    "-- Insert network_traffic\n",
    "INSERT INTO network_traffic VALUES\n",
    "('S001','2025-04-01',120,3000),\n",
    "('S002','2025-04-02',110,3200),\n",
    "('S003','2025-04-03',130,2900),\n",
    "('S004','2025-04-04',125,3100),\n",
    "('S005','2025-04-05',118,2800),\n",
    "('S001','2025-04-06',122,3050),\n",
    "('S002','2025-04-07',111,3150),\n",
    "('S003','2025-04-08',135,2990),\n",
    "('S004','2025-04-09',128,3120),\n",
    "('S005','2025-04-10',117,2820),\n",
    "('S001','2025-04-11',123,3060),\n",
    "('S002','2025-04-12',112,3160),\n",
    "('S003','2025-04-13',136,2980),\n",
    "('S004','2025-04-14',129,3130),\n",
    "('S005','2025-04-15',116,2830),\n",
    "('S001','2025-04-16',124,3070),\n",
    "('S002','2025-04-17',113,3170),\n",
    "('S003','2025-04-18',137,2970),\n",
    "('S004','2025-04-19',130,3140),\n",
    "('S005','2025-04-21',115,2840),\n",
    "('S002','2025-04-22',113,3170),\n",
    "('S003','2025-04-22',137,2970),\n",
    "('S004','2025-04-22',130,3140),\n",
    "('S005','2025-04-22',115,2840);\n",
    "\n",
    "-- Insert network_availability\n",
    "INSERT INTO network_availability VALUES\n",
    "('S001','2025-04-01',99.5),\n",
    "('S002','2025-04-02',98.2),\n",
    "('S003','2025-04-03',97.8),\n",
    "('S004','2025-04-04',96.4),\n",
    "('S005','2025-04-05',98.9),\n",
    "('S001','2025-04-06',99.1),\n",
    "('S002','2025-04-07',98.7),\n",
    "('S003','2025-04-08',97.2),\n",
    "('S004','2025-04-09',96.8),\n",
    "('S005','2025-04-10',99.0),\n",
    "('S001','2025-04-11',99.3),\n",
    "('S002','2025-04-12',98.6),\n",
    "('S003','2025-04-13',97.4),\n",
    "('S004','2025-04-14',96.7),\n",
    "('S005','2025-04-15',99.1),\n",
    "('S001','2025-04-16',99.4),\n",
    "('S002','2025-04-17',98.3),\n",
    "('S003','2025-04-18',97.1),\n",
    "('S004','2025-04-19',96.9),\n",
    "('S005','2025-04-20',99.2),\n",
    "('S001','2025-04-21',99.4),\n",
    "('S002','2025-04-22',98.3),\n",
    "('S003','2025-04-22',97.1),\n",
    "('S004','2025-04-22',96.9);\n",
    "\n",
    "-- Insert kpi_summary\n",
    "INSERT INTO kpi_summary VALUES\n",
    "('2025-04-01',4,2,3,98.5),\n",
    "('2025-04-02',3,1,2,98.2),\n",
    "('2025-04-03',5,3,1,97.8),\n",
    "('2025-04-04',6,2,3,96.4),\n",
    "('2025-04-05',2,2,2,98.9),\n",
    "('2025-04-06',3,1,1,99.1),\n",
    "('2025-04-07',4,2,3,98.7),\n",
    "('2025-04-08',5,3,1,97.2),\n",
    "('2025-04-09',6,2,3,96.8),\n",
    "('2025-04-10',2,1,2,99.0),\n",
    "('2025-04-11',3,1,1,99.3),\n",
    "('2025-04-12',4,2,3,98.6),\n",
    "('2025-04-13',5,3,1,97.4),\n",
    "('2025-04-14',6,2,3,96.7),\n",
    "('2025-04-15',2,2,2,99.1),\n",
    "('2025-04-16',3,1,1,99.4),\n",
    "('2025-04-17',4,2,3,98.3),\n",
    "('2025-04-18',5,3,1,97.1),\n",
    "('2025-04-19',6,2,3,96.9),\n",
    "('2025-04-20',2,1,2,99.2),\n",
    "('2025-04-22',3,1,1,94.4),\n",
    "('2025-04-22',4,2,3,94.3),\n",
    "('2025-04-22',5,3,1,92.1),\n",
    "('2025-04-22',6,2,3,91.9);\n",
    "\"\"\")\n",
    "\n",
    "conn.commit()\n",
    "print(\"DB is created with sample data\")\n"
   ]
  },
  {
   "cell_type": "markdown",
   "id": "704a4d2a",
   "metadata": {},
   "source": [
    "### Lets Check our data samples"
   ]
  },
  {
   "cell_type": "code",
   "execution_count": 12,
   "id": "5b396add",
   "metadata": {},
   "outputs": [
    {
     "name": "stdout",
     "output_type": "stream",
     "text": [
      "\n",
      "📋 Tables in 'my_data.db':\n",
      " - alarm_data\n",
      " - incident_data\n",
      " - work_order\n",
      " - network_traffic\n",
      " - network_availability\n",
      " - kpi_summary\n"
     ]
    }
   ],
   "source": [
    "conn = sqlite3.connect(\"my_data.db\")\n",
    "cursor = conn.cursor()\n",
    "cursor.execute(\"SELECT name FROM sqlite_master WHERE type='table';\")\n",
    "tables = cursor.fetchall()\n",
    "print(\"\\n📋 Tables in 'my_data.db':\")\n",
    "for table in tables:\n",
    "    print(f\" - {table[0]}\")"
   ]
  },
  {
   "cell_type": "code",
   "execution_count": 13,
   "id": "07ec0fec",
   "metadata": {},
   "outputs": [
    {
     "name": "stdout",
     "output_type": "stream",
     "text": [
      "\n",
      "🔍 Sample data from each table:\n",
      "\n",
      "--- ALARM_DATA ---\n",
      "('A101', 'S001', 'Power Failure', 'Critical', '2025-04-01')\n",
      "('A102', 'S001', 'Link Down', 'Major', '2025-04-02')\n",
      "\n",
      "--- INCIDENT_DATA ---\n",
      "('I201', 'S001', 'Link Failure', 'Closed', '2025-04-01', '2025-04-01')\n",
      "('I202', 'S002', 'Power Issue', 'Open', '2025-04-02', '2025-04-03')\n",
      "\n",
      "--- WORK_ORDER ---\n",
      "('WO101', 'S001', 'Repair', 'Closed', '2025-04-01', '2025-04-02')\n",
      "('WO102', 'S002', 'Upgrade', 'Open', '2025-04-02', '2025-04-03')\n",
      "\n",
      "--- NETWORK_TRAFFIC ---\n",
      "('S001', '2025-04-01', 120, 3000)\n",
      "('S002', '2025-04-02', 110, 3200)\n",
      "\n",
      "--- NETWORK_AVAILABILITY ---\n",
      "('S001', '2025-04-01', 99.5)\n",
      "('S002', '2025-04-02', 98.2)\n",
      "\n",
      "--- KPI_SUMMARY ---\n",
      "('2025-04-01', 4, 2, 3, 98.5)\n",
      "('2025-04-02', 3, 1, 2, 98.2)\n",
      "\n"
     ]
    }
   ],
   "source": [
    "# Show sample data from each table\n",
    "print(\"\\n🔍 Sample data from each table:\\n\")\n",
    "for (table_name,) in tables:\n",
    "    print(f\"--- {table_name.upper()} ---\")\n",
    "    cursor.execute(f\"SELECT * FROM {table_name} LIMIT 2;\")\n",
    "    rows = cursor.fetchall()\n",
    "    for row in rows:\n",
    "        print(row)\n",
    "    print()"
   ]
  },
  {
   "cell_type": "markdown",
   "id": "4c5f5caf",
   "metadata": {},
   "source": [
    "We now have our db ready lets move ahead"
   ]
  },
  {
   "cell_type": "code",
   "execution_count": 14,
   "id": "feb00901",
   "metadata": {},
   "outputs": [],
   "source": [
    "# Create and connect to SQlite DB\n",
    "conn=sqlite3.connect(\"my_data.db\")\n",
    "cursor=conn.cursor()"
   ]
  },
  {
   "cell_type": "code",
   "execution_count": 19,
   "id": "5ec06df9",
   "metadata": {},
   "outputs": [
    {
     "data": {
      "text/plain": [
       "{'alarm_data': [('alarm_id', 'TEXT'),\n",
       "  ('site_id', 'TEXT'),\n",
       "  ('alarm_type', 'TEXT'),\n",
       "  ('severity', 'TEXT'),\n",
       "  ('timestamp', 'TEXT')],\n",
       " 'incident_data': [('incident_id', 'TEXT'),\n",
       "  ('site_id', 'TEXT'),\n",
       "  ('incident_type', 'TEXT'),\n",
       "  ('status', 'TEXT'),\n",
       "  ('opened_at', 'TEXT'),\n",
       "  ('closed_at', 'TEXT')],\n",
       " 'work_order': [('wo_id', 'TEXT'),\n",
       "  ('site_id', 'TEXT'),\n",
       "  ('work_type', 'TEXT'),\n",
       "  ('status', 'TEXT'),\n",
       "  ('created_at', 'TEXT'),\n",
       "  ('closed_at', 'TEXT')],\n",
       " 'network_traffic': [('site_id', 'TEXT'),\n",
       "  ('date', 'TEXT'),\n",
       "  ('voice_traffic', 'INTEGER'),\n",
       "  ('data_traffic', 'INTEGER')],\n",
       " 'network_availability': [('site_id', 'TEXT'),\n",
       "  ('date', 'TEXT'),\n",
       "  ('availability_percent', 'REAL')],\n",
       " 'kpi_summary': [('date', 'TEXT'),\n",
       "  ('total_alarms', 'INTEGER'),\n",
       "  ('total_incidents', 'INTEGER'),\n",
       "  ('total_wos', 'INTEGER'),\n",
       "  ('avg_availability', 'REAL')]}"
      ]
     },
     "execution_count": 19,
     "metadata": {},
     "output_type": "execute_result"
    }
   ],
   "source": [
    "# Extract Schema -- We will use this for Prompt\n",
    "def extract_schema(conn):\n",
    "    cursor=conn.cursor()\n",
    "    tables=cursor.execute(\"Select name from sqlite_master Where type='table';\").fetchall()\n",
    "    schema={}\n",
    "    \n",
    "    for (table,) in tables :\n",
    "        columns=cursor.execute(f\"PRAGMA table_info ({table});\").fetchall()\n",
    "        schema[table]=[(col[1],col[2]) for col in columns]\n",
    "    return schema\n",
    "    \n",
    "    \n",
    "\n",
    "schema=extract_schema(conn)\n",
    "schema\n",
    "        "
   ]
  },
  {
   "cell_type": "markdown",
   "id": "cf07e355",
   "metadata": {},
   "source": [
    "### Lets add table description"
   ]
  },
  {
   "cell_type": "code",
   "execution_count": 20,
   "id": "b98f2a84",
   "metadata": {},
   "outputs": [],
   "source": [
    "table_description = {\n",
    "    \"alarm_data\": \"Stores alarm events from network nodes, including type, severity, and timestamps.\",\n",
    "    \"incident_data\": \"Tracks reported incidents related to site issues, including type, status, and lifecycle timestamps.\",\n",
    "    \"work_order\": \"Contains records of scheduled or reactive work orders issued to maintain or fix site infrastructure.\",\n",
    "    \"network_traffic\": \"Logs daily traffic metrics for each site including voice and data traffic volumes.\",\n",
    "    \"network_availability\": \"Monitors and stores the percentage of time each site is operational and available.\",\n",
    "    \"kpi_summary\": \"Aggregates daily performance metrics like total alarms, incidents, work orders, and average availability.\"\n",
    "}"
   ]
  },
  {
   "cell_type": "code",
   "execution_count": 23,
   "id": "2383a373",
   "metadata": {},
   "outputs": [
    {
     "data": {
      "text/plain": [
       "'Table: alarm_data\\nDescription: Stores alarm events from network nodes, including type, severity, and timestamps.\\nColumns:\\n  - alarm_id(TEXT)\\n  - site_id(TEXT)\\n  - alarm_type(TEXT)\\n  - severity(TEXT)\\n  - timestamp(TEXT)\\n\\nTable: incident_data\\nDescription: Tracks reported incidents related to site issues, including type, status, and lifecycle timestamps.\\nColumns:\\n  - incident_id(TEXT)\\n  - site_id(TEXT)\\n  - incident_type(TEXT)\\n  - status(TEXT)\\n  - opened_at(TEXT)\\n  - closed_at(TEXT)\\n\\nTable: work_order\\nDescription: Contains records of scheduled or reactive work orders issued to maintain or fix site infrastructure.\\nColumns:\\n  - wo_id(TEXT)\\n  - site_id(TEXT)\\n  - work_type(TEXT)\\n  - status(TEXT)\\n  - created_at(TEXT)\\n  - closed_at(TEXT)\\n\\nTable: network_traffic\\nDescription: Logs daily traffic metrics for each site including voice and data traffic volumes.\\nColumns:\\n  - site_id(TEXT)\\n  - date(TEXT)\\n  - voice_traffic(INTEGER)\\n  - data_traffic(INTEGER)\\n\\nTable: network_availability\\nDescription: Monitors and stores the percentage of time each site is operational and available.\\nColumns:\\n  - site_id(TEXT)\\n  - date(TEXT)\\n  - availability_percent(REAL)\\n\\nTable: kpi_summary\\nDescription: Aggregates daily performance metrics like total alarms, incidents, work orders, and average availability.\\nColumns:\\n  - date(TEXT)\\n  - total_alarms(INTEGER)\\n  - total_incidents(INTEGER)\\n  - total_wos(INTEGER)\\n  - avg_availability(REAL)\\n\\n'"
      ]
     },
     "execution_count": 23,
     "metadata": {},
     "output_type": "execute_result"
    }
   ],
   "source": [
    "#format for Prompt\n",
    "\n",
    "def format_schema_with_description(schema_dict,description_dict):\n",
    "    formatted = \"\" \n",
    "    for table,columns in schema_dict.items():\n",
    "        formatted += f\"Table: {table}\\n\"\n",
    "        formatted += f\"Description: {description_dict.get(table,'No Description Available')}\\n\"\n",
    "        formatted += f\"Columns:\\n\"\n",
    "        for col_name,col_type in columns:\n",
    "            formatted += f\"  - {col_name }({col_type})\\n\"\n",
    "        formatted += \"\\n\"\n",
    "    return formatted\n",
    "schema_prompt=format_schema_with_description(schema,table_description)\n",
    "schema_prompt\n",
    "        "
   ]
  },
  {
   "cell_type": "markdown",
   "id": "890613e8",
   "metadata": {},
   "source": [
    "### Combine few shot + Embedding+ FAISS"
   ]
  },
  {
   "cell_type": "code",
   "execution_count": 24,
   "id": "2718dbd4",
   "metadata": {},
   "outputs": [],
   "source": [
    "# Few Shot Examples\n",
    "examples = [\n",
    "    {\n",
    "        \"question\": \"How many alarms were raised today?\",\n",
    "        \"sql\": \"SELECT COUNT(*) FROM alarm_data WHERE DATE(timestamp) = DATE('now');\"\n",
    "    },\n",
    "    {\n",
    "        \"question\": \"How many number of incidents in the last three days?\",\n",
    "        \"sql\": \"SELECT COUNT(*) FROM incident_data WHERE DATE(opened_at) >= DATE('now', '-3 days');\"\n",
    "    },\n",
    "    {\n",
    "        \"question\": \"What is today's network availability?\",\n",
    "        \"sql\": \"SELECT AVG(availability_percent) FROM network_availability WHERE DATE(date) = DATE('now');\"\n",
    "    },\n",
    "    {\n",
    "        \"question\": \"How many work orders are currently open?\",\n",
    "        \"sql\": \"SELECT COUNT(*) FROM work_order WHERE status = 'Open';\"\n",
    "    },\n",
    "    {\n",
    "        \"question\": \"Show daily voice and data traffic for the past week.\",\n",
    "        \"sql\": \"SELECT date, SUM(voice_traffic) AS total_voice, SUM(data_traffic) AS total_data FROM network_traffic WHERE DATE(date) >= DATE('now', '-7 days') GROUP BY date ORDER BY date;\"\n",
    "    },\n",
    "    {\n",
    "        \"question\": \"Show number of alarms by severity for the past 7 days.\",\n",
    "        \"sql\": \"SELECT severity, COUNT(*) FROM alarm_data WHERE DATE(timestamp) >= DATE('now', '-7 days') GROUP BY severity;\"\n",
    "    },\n",
    "    {\n",
    "        \"question\": \"How was the network performance yesterday compared to the last 10 days?\",\n",
    "        \"sql\": \"\"\"\n",
    "        SELECT\n",
    "            (SELECT AVG(avg_availability) FROM kpi_summary WHERE DATE(date) BETWEEN DATE('now', '-11 days') AND DATE('now', '-2 days')) AS past_10_day_avg,\n",
    "            (SELECT avg_availability FROM kpi_summary WHERE DATE(date) = DATE('now', '-1 day')) AS yesterday;\n",
    "        \"\"\"\n",
    "    },\n",
    "    {\n",
    "        \"question\": \"What is the trend of incidents over the last 14 days?\",\n",
    "        \"sql\": \"SELECT DATE(opened_at) AS day, COUNT(*) AS incident_count FROM incident_data WHERE DATE(opened_at) >= DATE('now', '-14 days') GROUP BY day ORDER BY day;\"\n",
    "    },\n",
    "    {\n",
    "        \"question\": \"How many incidents are open across all sites?\",\n",
    "        \"sql\": \"SELECT COUNT(*) FROM incident_data WHERE status = 'Open';\"\n",
    "    },\n",
    "    {\n",
    "        \"question\": \"List sites with the lowest availability in the last 5 days.\",\n",
    "        \"sql\": \"SELECT site_id, AVG(availability_percent) AS avg_availability FROM network_availability WHERE DATE(date) >= DATE('now', '-5 days') GROUP BY site_id ORDER BY avg_availability ASC LIMIT 5;\"\n",
    "    },\n",
    "    {\n",
    "        \"question\": \"How was the day yesterday?\",\n",
    "        \"sql\": \"\"\"\n",
    "        SELECT\n",
    "            (SELECT COUNT(*) FROM alarm_data WHERE DATE(timestamp) = DATE('now', '-1 day')) AS alarms_yesterday,\n",
    "            (SELECT COUNT(*) FROM incident_data WHERE DATE(opened_at) = DATE('now', '-1 day')) AS incidents_yesterday,\n",
    "            (SELECT COUNT(*) FROM work_order WHERE DATE(created_at) = DATE('now', '-1 day')) AS work_orders_yesterday,\n",
    "            (SELECT AVG(availability_percent) FROM network_availability WHERE DATE(date) = DATE('now', '-1 day')) AS availability_yesterday,\n",
    "            \n",
    "            (SELECT COUNT(*) * 1.0 / 10 FROM alarm_data WHERE DATE(timestamp) BETWEEN DATE('now', '-11 days') AND DATE('now', '-2 days')) AS avg_alarms_last_10,\n",
    "            (SELECT COUNT(*) * 1.0 / 10 FROM incident_data WHERE DATE(opened_at) BETWEEN DATE('now', '-11 days') AND DATE('now', '-2 days')) AS avg_incidents_last_10,\n",
    "            (SELECT COUNT(*) * 1.0 / 10 FROM work_order WHERE DATE(created_at) BETWEEN DATE('now', '-11 days') AND DATE('now', '-2 days')) AS avg_work_orders_last_10,\n",
    "            (SELECT AVG(availability_percent) FROM network_availability WHERE DATE(date) BETWEEN DATE('now', '-11 days') AND DATE('now', '-2 days')) AS avg_availability_last_10;\n",
    "        \"\"\"\n",
    "    },\n",
    "    {\n",
    "        \"question\": \"How was the performance today?\",\n",
    "        \"sql\": \"\"\"\n",
    "        SELECT\n",
    "            (SELECT COUNT(*) FROM alarm_data WHERE DATE(timestamp) = DATE('now')) AS alarms_today,\n",
    "            (SELECT COUNT(*) FROM incident_data WHERE DATE(opened_at) = DATE('now')) AS incidents_today,\n",
    "            (SELECT COUNT(*) FROM work_order WHERE DATE(created_at) = DATE('now')) AS work_orders_today,\n",
    "            (SELECT AVG(availability_percent) FROM network_availability WHERE DATE(date) = DATE('now')) AS availability_today,\n",
    "\n",
    "            (SELECT COUNT(*) * 1.0 / 10 FROM alarm_data WHERE DATE(timestamp) BETWEEN DATE('now', '-10 days') AND DATE('now', '-1 day')) AS avg_alarms_last_10,\n",
    "            (SELECT COUNT(*) * 1.0 / 10 FROM incident_data WHERE DATE(opened_at) BETWEEN DATE('now', '-10 days') AND DATE('now', '-1 day')) AS avg_incidents_last_10,\n",
    "            (SELECT COUNT(*) * 1.0 / 10 FROM work_order WHERE DATE(created_at) BETWEEN DATE('now', '-10 days') AND DATE('now', '-1 day')) AS avg_work_orders_last_10,\n",
    "            (SELECT AVG(availability_percent) FROM network_availability WHERE DATE(date) BETWEEN DATE('now', '-10 days') AND DATE('now', '-1 day')) AS avg_availability_last_10;\n",
    "        \"\"\"\n",
    "    },\n",
    "    {\n",
    "        \"question\": \"Compare today's metrics with the last 10-day average.\",\n",
    "        \"sql\": \"\"\"\n",
    "        SELECT\n",
    "            -- Today's counts\n",
    "            (SELECT COUNT(*) FROM alarm_data WHERE DATE(timestamp) = DATE('now')) AS today_alarms,\n",
    "            (SELECT COUNT(*) FROM incident_data WHERE DATE(opened_at) = DATE('now')) AS today_incidents,\n",
    "            (SELECT COUNT(*) FROM work_order WHERE DATE(created_at) = DATE('now')) AS today_work_orders,\n",
    "            (SELECT AVG(availability_percent) FROM network_availability WHERE DATE(date) = DATE('now')) AS today_availability,\n",
    "\n",
    "            -- 10-day averages\n",
    "            (SELECT COUNT(*) * 1.0 / 10 FROM alarm_data WHERE DATE(timestamp) BETWEEN DATE('now', '-10 days') AND DATE('now', '-1 day')) AS avg_alarms,\n",
    "            (SELECT COUNT(*) * 1.0 / 10 FROM incident_data WHERE DATE(opened_at) BETWEEN DATE('now', '-10 days') AND DATE('now', '-1 day')) AS avg_incidents,\n",
    "            (SELECT COUNT(*) * 1.0 / 10 FROM work_order WHERE DATE(created_at) BETWEEN DATE('now', '-10 days') AND DATE('now', '-1 day')) AS avg_work_orders,\n",
    "            (SELECT AVG(availability_percent) FROM network_availability WHERE DATE(date) BETWEEN DATE('now', '-10 days') AND DATE('now', '-1 day')) AS avg_availability;\n",
    "        \"\"\"\n",
    "    }\n",
    "]\n"
   ]
  },
  {
   "cell_type": "code",
   "execution_count": 27,
   "id": "1ff699c3",
   "metadata": {},
   "outputs": [
    {
     "data": {
      "text/plain": [
       "[Document(metadata={}, page_content=\"How many alarms were raised today? ||| SELECT COUNT(*) FROM alarm_data WHERE DATE(timestamp) = DATE('now');\"),\n",
       " Document(metadata={}, page_content=\"How many number of incidents in the last three days? ||| SELECT COUNT(*) FROM incident_data WHERE DATE(opened_at) >= DATE('now', '-3 days');\"),\n",
       " Document(metadata={}, page_content=\"What is today's network availability? ||| SELECT AVG(availability_percent) FROM network_availability WHERE DATE(date) = DATE('now');\"),\n",
       " Document(metadata={}, page_content=\"How many work orders are currently open? ||| SELECT COUNT(*) FROM work_order WHERE status = 'Open';\"),\n",
       " Document(metadata={}, page_content=\"Show daily voice and data traffic for the past week. ||| SELECT date, SUM(voice_traffic) AS total_voice, SUM(data_traffic) AS total_data FROM network_traffic WHERE DATE(date) >= DATE('now', '-7 days') GROUP BY date ORDER BY date;\"),\n",
       " Document(metadata={}, page_content=\"Show number of alarms by severity for the past 7 days. ||| SELECT severity, COUNT(*) FROM alarm_data WHERE DATE(timestamp) >= DATE('now', '-7 days') GROUP BY severity;\"),\n",
       " Document(metadata={}, page_content=\"How was the network performance yesterday compared to the last 10 days? ||| \\n        SELECT\\n            (SELECT AVG(avg_availability) FROM kpi_summary WHERE DATE(date) BETWEEN DATE('now', '-11 days') AND DATE('now', '-2 days')) AS past_10_day_avg,\\n            (SELECT avg_availability FROM kpi_summary WHERE DATE(date) = DATE('now', '-1 day')) AS yesterday;\\n        \"),\n",
       " Document(metadata={}, page_content=\"What is the trend of incidents over the last 14 days? ||| SELECT DATE(opened_at) AS day, COUNT(*) AS incident_count FROM incident_data WHERE DATE(opened_at) >= DATE('now', '-14 days') GROUP BY day ORDER BY day;\"),\n",
       " Document(metadata={}, page_content=\"How many incidents are open across all sites? ||| SELECT COUNT(*) FROM incident_data WHERE status = 'Open';\"),\n",
       " Document(metadata={}, page_content=\"List sites with the lowest availability in the last 5 days. ||| SELECT site_id, AVG(availability_percent) AS avg_availability FROM network_availability WHERE DATE(date) >= DATE('now', '-5 days') GROUP BY site_id ORDER BY avg_availability ASC LIMIT 5;\"),\n",
       " Document(metadata={}, page_content=\"How was the day yesterday? ||| \\n        SELECT\\n            (SELECT COUNT(*) FROM alarm_data WHERE DATE(timestamp) = DATE('now', '-1 day')) AS alarms_yesterday,\\n            (SELECT COUNT(*) FROM incident_data WHERE DATE(opened_at) = DATE('now', '-1 day')) AS incidents_yesterday,\\n            (SELECT COUNT(*) FROM work_order WHERE DATE(created_at) = DATE('now', '-1 day')) AS work_orders_yesterday,\\n            (SELECT AVG(availability_percent) FROM network_availability WHERE DATE(date) = DATE('now', '-1 day')) AS availability_yesterday,\\n            \\n            (SELECT COUNT(*) * 1.0 / 10 FROM alarm_data WHERE DATE(timestamp) BETWEEN DATE('now', '-11 days') AND DATE('now', '-2 days')) AS avg_alarms_last_10,\\n            (SELECT COUNT(*) * 1.0 / 10 FROM incident_data WHERE DATE(opened_at) BETWEEN DATE('now', '-11 days') AND DATE('now', '-2 days')) AS avg_incidents_last_10,\\n            (SELECT COUNT(*) * 1.0 / 10 FROM work_order WHERE DATE(created_at) BETWEEN DATE('now', '-11 days') AND DATE('now', '-2 days')) AS avg_work_orders_last_10,\\n            (SELECT AVG(availability_percent) FROM network_availability WHERE DATE(date) BETWEEN DATE('now', '-11 days') AND DATE('now', '-2 days')) AS avg_availability_last_10;\\n        \"),\n",
       " Document(metadata={}, page_content=\"How was the performance today? ||| \\n        SELECT\\n            (SELECT COUNT(*) FROM alarm_data WHERE DATE(timestamp) = DATE('now')) AS alarms_today,\\n            (SELECT COUNT(*) FROM incident_data WHERE DATE(opened_at) = DATE('now')) AS incidents_today,\\n            (SELECT COUNT(*) FROM work_order WHERE DATE(created_at) = DATE('now')) AS work_orders_today,\\n            (SELECT AVG(availability_percent) FROM network_availability WHERE DATE(date) = DATE('now')) AS availability_today,\\n\\n            (SELECT COUNT(*) * 1.0 / 10 FROM alarm_data WHERE DATE(timestamp) BETWEEN DATE('now', '-10 days') AND DATE('now', '-1 day')) AS avg_alarms_last_10,\\n            (SELECT COUNT(*) * 1.0 / 10 FROM incident_data WHERE DATE(opened_at) BETWEEN DATE('now', '-10 days') AND DATE('now', '-1 day')) AS avg_incidents_last_10,\\n            (SELECT COUNT(*) * 1.0 / 10 FROM work_order WHERE DATE(created_at) BETWEEN DATE('now', '-10 days') AND DATE('now', '-1 day')) AS avg_work_orders_last_10,\\n            (SELECT AVG(availability_percent) FROM network_availability WHERE DATE(date) BETWEEN DATE('now', '-10 days') AND DATE('now', '-1 day')) AS avg_availability_last_10;\\n        \"),\n",
       " Document(metadata={}, page_content=\"Compare today's metrics with the last 10-day average. ||| \\n        SELECT\\n            -- Today's counts\\n            (SELECT COUNT(*) FROM alarm_data WHERE DATE(timestamp) = DATE('now')) AS today_alarms,\\n            (SELECT COUNT(*) FROM incident_data WHERE DATE(opened_at) = DATE('now')) AS today_incidents,\\n            (SELECT COUNT(*) FROM work_order WHERE DATE(created_at) = DATE('now')) AS today_work_orders,\\n            (SELECT AVG(availability_percent) FROM network_availability WHERE DATE(date) = DATE('now')) AS today_availability,\\n\\n            -- 10-day averages\\n            (SELECT COUNT(*) * 1.0 / 10 FROM alarm_data WHERE DATE(timestamp) BETWEEN DATE('now', '-10 days') AND DATE('now', '-1 day')) AS avg_alarms,\\n            (SELECT COUNT(*) * 1.0 / 10 FROM incident_data WHERE DATE(opened_at) BETWEEN DATE('now', '-10 days') AND DATE('now', '-1 day')) AS avg_incidents,\\n            (SELECT COUNT(*) * 1.0 / 10 FROM work_order WHERE DATE(created_at) BETWEEN DATE('now', '-10 days') AND DATE('now', '-1 day')) AS avg_work_orders,\\n            (SELECT AVG(availability_percent) FROM network_availability WHERE DATE(date) BETWEEN DATE('now', '-10 days') AND DATE('now', '-1 day')) AS avg_availability;\\n        \")]"
      ]
     },
     "execution_count": 27,
     "metadata": {},
     "output_type": "execute_result"
    }
   ],
   "source": [
    "# COnvert to Langchain Documents\n",
    "from langchain.docstore.document import Document\n",
    "docs=[Document(page_content = ex[\"question\"]+ \" ||| \" + ex[\"sql\"]) for ex in examples]\n",
    "docs"
   ]
  },
  {
   "cell_type": "code",
   "execution_count": null,
   "id": "6d2ec797",
   "metadata": {},
   "outputs": [],
   "source": [
    "open_API_Key=\"your API Key\""
   ]
  },
  {
   "cell_type": "code",
   "execution_count": 29,
   "id": "31753bd9",
   "metadata": {},
   "outputs": [
    {
     "name": "stderr",
     "output_type": "stream",
     "text": [
      "C:\\Users\\Comp\\AppData\\Local\\Temp\\ipykernel_11856\\1411790866.py:2: LangChainDeprecationWarning: The class `OpenAIEmbeddings` was deprecated in LangChain 0.0.9 and will be removed in 1.0. An updated version of the class exists in the :class:`~langchain-openai package and should be used instead. To use it run `pip install -U :class:`~langchain-openai` and import as `from :class:`~langchain_openai import OpenAIEmbeddings``.\n",
      "  embedding_model=OpenAIEmbeddings(openai_api_key=open_API_Key, model=\"text-embedding-3-small\")\n"
     ]
    }
   ],
   "source": [
    "# Initialize embedding model\n",
    "embedding_model=OpenAIEmbeddings(openai_api_key=open_API_Key, model=\"text-embedding-3-small\")"
   ]
  },
  {
   "cell_type": "code",
   "execution_count": 30,
   "id": "eb6882ee",
   "metadata": {},
   "outputs": [],
   "source": [
    "#build FAISS vector index\n",
    "vectorstore=FAISS.from_documents(docs,embedding_model)\n",
    "vectorstore.save_local(\"faiss_index_mydata\")"
   ]
  },
  {
   "cell_type": "code",
   "execution_count": 31,
   "id": "77863761",
   "metadata": {},
   "outputs": [],
   "source": [
    "# Load Faiss and embedding index\n",
    "\n",
    "vectorstore=FAISS.load_local(\n",
    "    folder_path='faiss_index_mydata',\n",
    "    embeddings=embedding_model,\n",
    "    allow_dangerous_deserialization=True\n",
    ")"
   ]
  },
  {
   "cell_type": "code",
   "execution_count": 53,
   "id": "a77d355a",
   "metadata": {},
   "outputs": [],
   "source": [
    "user_question=\"how was the day today\""
   ]
  },
  {
   "cell_type": "markdown",
   "id": "3e731b55",
   "metadata": {},
   "source": [
    "# Retieve top k similar examples based on user's question"
   ]
  },
  {
   "cell_type": "code",
   "execution_count": 54,
   "id": "9b932011",
   "metadata": {},
   "outputs": [],
   "source": [
    "retrieved_docs=vectorstore.similarity_search(user_question,k=1)"
   ]
  },
  {
   "cell_type": "code",
   "execution_count": 55,
   "id": "e0c3ed63",
   "metadata": {},
   "outputs": [
    {
     "data": {
      "text/plain": [
       "[Document(metadata={}, page_content=\"How was the day yesterday? ||| \\n        SELECT\\n            (SELECT COUNT(*) FROM alarm_data WHERE DATE(timestamp) = DATE('now', '-1 day')) AS alarms_yesterday,\\n            (SELECT COUNT(*) FROM incident_data WHERE DATE(opened_at) = DATE('now', '-1 day')) AS incidents_yesterday,\\n            (SELECT COUNT(*) FROM work_order WHERE DATE(created_at) = DATE('now', '-1 day')) AS work_orders_yesterday,\\n            (SELECT AVG(availability_percent) FROM network_availability WHERE DATE(date) = DATE('now', '-1 day')) AS availability_yesterday,\\n            \\n            (SELECT COUNT(*) * 1.0 / 10 FROM alarm_data WHERE DATE(timestamp) BETWEEN DATE('now', '-11 days') AND DATE('now', '-2 days')) AS avg_alarms_last_10,\\n            (SELECT COUNT(*) * 1.0 / 10 FROM incident_data WHERE DATE(opened_at) BETWEEN DATE('now', '-11 days') AND DATE('now', '-2 days')) AS avg_incidents_last_10,\\n            (SELECT COUNT(*) * 1.0 / 10 FROM work_order WHERE DATE(created_at) BETWEEN DATE('now', '-11 days') AND DATE('now', '-2 days')) AS avg_work_orders_last_10,\\n            (SELECT AVG(availability_percent) FROM network_availability WHERE DATE(date) BETWEEN DATE('now', '-11 days') AND DATE('now', '-2 days')) AS avg_availability_last_10;\\n        \")]"
      ]
     },
     "execution_count": 55,
     "metadata": {},
     "output_type": "execute_result"
    }
   ],
   "source": [
    "retrieved_docs"
   ]
  },
  {
   "cell_type": "code",
   "execution_count": 56,
   "id": "5900f122",
   "metadata": {},
   "outputs": [
    {
     "data": {
      "text/plain": [
       "[{'question': 'How was the day yesterday?',\n",
       "  'sql': \"SELECT\\n            (SELECT COUNT(*) FROM alarm_data WHERE DATE(timestamp) = DATE('now', '-1 day')) AS alarms_yesterday,\\n            (SELECT COUNT(*) FROM incident_data WHERE DATE(opened_at) = DATE('now', '-1 day')) AS incidents_yesterday,\\n            (SELECT COUNT(*) FROM work_order WHERE DATE(created_at) = DATE('now', '-1 day')) AS work_orders_yesterday,\\n            (SELECT AVG(availability_percent) FROM network_availability WHERE DATE(date) = DATE('now', '-1 day')) AS availability_yesterday,\\n            \\n            (SELECT COUNT(*) * 1.0 / 10 FROM alarm_data WHERE DATE(timestamp) BETWEEN DATE('now', '-11 days') AND DATE('now', '-2 days')) AS avg_alarms_last_10,\\n            (SELECT COUNT(*) * 1.0 / 10 FROM incident_data WHERE DATE(opened_at) BETWEEN DATE('now', '-11 days') AND DATE('now', '-2 days')) AS avg_incidents_last_10,\\n            (SELECT COUNT(*) * 1.0 / 10 FROM work_order WHERE DATE(created_at) BETWEEN DATE('now', '-11 days') AND DATE('now', '-2 days')) AS avg_work_orders_last_10,\\n            (SELECT AVG(availability_percent) FROM network_availability WHERE DATE(date) BETWEEN DATE('now', '-11 days') AND DATE('now', '-2 days')) AS avg_availability_last_10;\"}]"
      ]
     },
     "execution_count": 56,
     "metadata": {},
     "output_type": "execute_result"
    }
   ],
   "source": [
    "#Parse them back to structured examples\n",
    "examples=[]\n",
    "for doc in retrieved_docs :\n",
    "    q_sql=doc.page_content.split(\" ||| \")\n",
    "    examples.append({\"question\": q_sql[0].strip(),\n",
    "                     \"sql\": q_sql[1].strip()\n",
    "                     })\n",
    "    \n",
    "examples"
   ]
  },
  {
   "cell_type": "code",
   "execution_count": 57,
   "id": "4fac76b1",
   "metadata": {},
   "outputs": [
    {
     "data": {
      "text/plain": [
       "PromptTemplate(input_variables=['question', 'sql'], input_types={}, partial_variables={}, template='Question: {question}\\n SQL: {sql}')"
      ]
     },
     "execution_count": 57,
     "metadata": {},
     "output_type": "execute_result"
    }
   ],
   "source": [
    "# few shot prompt\n",
    "\n",
    "example_prompt=PromptTemplate(\n",
    "    input_variables=[\"question\",\"sql\"],\n",
    "    template=\"Question: {question}\\n SQL: {sql}\"\n",
    "    \n",
    ")\n",
    "example_prompt\n"
   ]
  },
  {
   "cell_type": "code",
   "execution_count": 58,
   "id": "a88f0538",
   "metadata": {},
   "outputs": [
    {
     "data": {
      "text/plain": [
       "FewShotPromptTemplate(input_variables=['question', 'schema'], input_types={}, partial_variables={}, examples=[{'question': 'How was the day yesterday?', 'sql': \"SELECT\\n            (SELECT COUNT(*) FROM alarm_data WHERE DATE(timestamp) = DATE('now', '-1 day')) AS alarms_yesterday,\\n            (SELECT COUNT(*) FROM incident_data WHERE DATE(opened_at) = DATE('now', '-1 day')) AS incidents_yesterday,\\n            (SELECT COUNT(*) FROM work_order WHERE DATE(created_at) = DATE('now', '-1 day')) AS work_orders_yesterday,\\n            (SELECT AVG(availability_percent) FROM network_availability WHERE DATE(date) = DATE('now', '-1 day')) AS availability_yesterday,\\n            \\n            (SELECT COUNT(*) * 1.0 / 10 FROM alarm_data WHERE DATE(timestamp) BETWEEN DATE('now', '-11 days') AND DATE('now', '-2 days')) AS avg_alarms_last_10,\\n            (SELECT COUNT(*) * 1.0 / 10 FROM incident_data WHERE DATE(opened_at) BETWEEN DATE('now', '-11 days') AND DATE('now', '-2 days')) AS avg_incidents_last_10,\\n            (SELECT COUNT(*) * 1.0 / 10 FROM work_order WHERE DATE(created_at) BETWEEN DATE('now', '-11 days') AND DATE('now', '-2 days')) AS avg_work_orders_last_10,\\n            (SELECT AVG(availability_percent) FROM network_availability WHERE DATE(date) BETWEEN DATE('now', '-11 days') AND DATE('now', '-2 days')) AS avg_availability_last_10;\"}], example_prompt=PromptTemplate(input_variables=['question', 'sql'], input_types={}, partial_variables={}, template='Question: {question}\\n SQL: {sql}'), suffix='\\n    Behave like a SQL query writer. Use the SQL Schema and descriptions below :\\n    {schema}\\n    \\n    Now based on the user\\'s question : \"{question}\", write an accurate SQL query. \\n    Do not try to reduce the SQL Query if it gets complex.\\n    ')"
      ]
     },
     "execution_count": 58,
     "metadata": {},
     "output_type": "execute_result"
    }
   ],
   "source": [
    "prompt=FewShotPromptTemplate(\n",
    "    examples=examples,\n",
    "    example_prompt=example_prompt,\n",
    "    suffix=\"\"\"\n",
    "    Behave like a SQL query writer. Use the SQL Schema and descriptions below :\n",
    "    {schema}\n",
    "    \n",
    "    Now based on the user's question : \"{question}\", write an accurate SQL query. \n",
    "    Do not try to reduce the SQL Query if it gets complex.\n",
    "    \"\"\",\n",
    "    input_variables =[\"schema\",\"question\"]\n",
    ")\n",
    "prompt"
   ]
  },
  {
   "cell_type": "markdown",
   "id": "bb143e11",
   "metadata": {},
   "source": [
    "# Define the llm chain"
   ]
  },
  {
   "cell_type": "code",
   "execution_count": 59,
   "id": "2fec7426",
   "metadata": {},
   "outputs": [],
   "source": [
    "llm=ChatOpenAI(openai_api_key=open_API_Key,model_name='gpt-4')"
   ]
  },
  {
   "cell_type": "code",
   "execution_count": 60,
   "id": "ab7b04e1",
   "metadata": {},
   "outputs": [],
   "source": [
    "sql_chain=LLMChain(llm=llm,prompt=prompt)"
   ]
  },
  {
   "cell_type": "code",
   "execution_count": 61,
   "id": "4def0c58",
   "metadata": {},
   "outputs": [
    {
     "data": {
      "text/plain": [
       "\"SQL: SELECT\\n            (SELECT COUNT(*) FROM alarm_data WHERE DATE(timestamp) = DATE('now')) AS alarms_today,\\n            (SELECT COUNT(*) FROM incident_data WHERE DATE(opened_at) = DATE('now')) AS incidents_today,\\n            (SELECT COUNT(*) FROM work_order WHERE DATE(created_at) = DATE('now')) AS work_orders_today,\\n            (SELECT AVG(availability_percent) FROM network_availability WHERE DATE(date) = DATE('now')) AS availability_today,\\n            \\n            (SELECT COUNT(*) * 1.0 / 10 FROM alarm_data WHERE DATE(timestamp) BETWEEN DATE('now', '-10 days') AND DATE('now', '-1 day')) AS avg_alarms_last_10,\\n            (SELECT COUNT(*) * 1.0 / 10 FROM incident_data WHERE DATE(opened_at) BETWEEN DATE('now', '-10 days') AND DATE('now', '-1 day')) AS avg_incidents_last_10,\\n            (SELECT COUNT(*) * 1.0 / 10 FROM work_order WHERE DATE(created_at) BETWEEN DATE('now', '-10 days') AND DATE('now', '-1 day')) AS avg_work_orders_last_10,\\n            (SELECT AVG(availability_percent) FROM network_availability WHERE DATE(date) BETWEEN DATE('now', '-10 days') AND DATE('now', '-1 day')) AS avg_availability_last_10;\""
      ]
     },
     "execution_count": 61,
     "metadata": {},
     "output_type": "execute_result"
    }
   ],
   "source": [
    "#generate SQL Query now\n",
    "sql_query=sql_chain.run(schema=schema_prompt,question=user_question)\n",
    "sql_query"
   ]
  },
  {
   "cell_type": "code",
   "execution_count": 62,
   "id": "819a102e",
   "metadata": {},
   "outputs": [
    {
     "data": {
      "text/plain": [
       "\"SELECT\\n            (SELECT COUNT(*) FROM alarm_data WHERE DATE(timestamp) = DATE('now')) AS alarms_today,\\n            (SELECT COUNT(*) FROM incident_data WHERE DATE(opened_at) = DATE('now')) AS incidents_today,\\n            (SELECT COUNT(*) FROM work_order WHERE DATE(created_at) = DATE('now')) AS work_orders_today,\\n            (SELECT AVG(availability_percent) FROM network_availability WHERE DATE(date) = DATE('now')) AS availability_today,\\n            \\n            (SELECT COUNT(*) * 1.0 / 10 FROM alarm_data WHERE DATE(timestamp) BETWEEN DATE('now', '-10 days') AND DATE('now', '-1 day')) AS avg_alarms_last_10,\\n            (SELECT COUNT(*) * 1.0 / 10 FROM incident_data WHERE DATE(opened_at) BETWEEN DATE('now', '-10 days') AND DATE('now', '-1 day')) AS avg_incidents_last_10,\\n            (SELECT COUNT(*) * 1.0 / 10 FROM work_order WHERE DATE(created_at) BETWEEN DATE('now', '-10 days') AND DATE('now', '-1 day')) AS avg_work_orders_last_10,\\n            (SELECT AVG(availability_percent) FROM network_availability WHERE DATE(date) BETWEEN DATE('now', '-10 days') AND DATE('now', '-1 day')) AS avg_availability_last_10;\""
      ]
     },
     "execution_count": 62,
     "metadata": {},
     "output_type": "execute_result"
    }
   ],
   "source": [
    "# Remove Accidental Prefix\n",
    "if sql_query.strip().startswith(\"SQL:\"):\n",
    "    sql_query=sql_query.split(\"SQL:\",1)[1].strip()\n",
    "sql_query"
   ]
  },
  {
   "cell_type": "markdown",
   "id": "ca2d6d75",
   "metadata": {},
   "source": [
    "### Code for SQL Execution"
   ]
  },
  {
   "cell_type": "code",
   "execution_count": 63,
   "id": "67e11be0",
   "metadata": {},
   "outputs": [],
   "source": [
    "conn=sqlite3.connect(\"my_data.db\")\n",
    "def execute_sql_query(sql_query):\n",
    "    df=pd.read_sql_query(sql_query,conn)\n",
    "    \n",
    "    return df\n",
    "    "
   ]
  },
  {
   "cell_type": "code",
   "execution_count": 64,
   "id": "6cf45bb3",
   "metadata": {},
   "outputs": [
    {
     "data": {
      "text/html": [
       "<div>\n",
       "<style scoped>\n",
       "    .dataframe tbody tr th:only-of-type {\n",
       "        vertical-align: middle;\n",
       "    }\n",
       "\n",
       "    .dataframe tbody tr th {\n",
       "        vertical-align: top;\n",
       "    }\n",
       "\n",
       "    .dataframe thead th {\n",
       "        text-align: right;\n",
       "    }\n",
       "</style>\n",
       "<table border=\"1\" class=\"dataframe\">\n",
       "  <thead>\n",
       "    <tr style=\"text-align: right;\">\n",
       "      <th></th>\n",
       "      <th>alarms_today</th>\n",
       "      <th>incidents_today</th>\n",
       "      <th>work_orders_today</th>\n",
       "      <th>availability_today</th>\n",
       "      <th>avg_alarms_last_10</th>\n",
       "      <th>avg_incidents_last_10</th>\n",
       "      <th>avg_work_orders_last_10</th>\n",
       "      <th>avg_availability_last_10</th>\n",
       "    </tr>\n",
       "  </thead>\n",
       "  <tbody>\n",
       "    <tr>\n",
       "      <th>0</th>\n",
       "      <td>2</td>\n",
       "      <td>2</td>\n",
       "      <td>2</td>\n",
       "      <td>97.433333</td>\n",
       "      <td>1.0</td>\n",
       "      <td>0.7</td>\n",
       "      <td>0.7</td>\n",
       "      <td>98.21</td>\n",
       "    </tr>\n",
       "  </tbody>\n",
       "</table>\n",
       "</div>"
      ],
      "text/plain": [
       "   alarms_today  incidents_today  work_orders_today  availability_today  \\\n",
       "0             2                2                  2           97.433333   \n",
       "\n",
       "   avg_alarms_last_10  avg_incidents_last_10  avg_work_orders_last_10  \\\n",
       "0                 1.0                    0.7                      0.7   \n",
       "\n",
       "   avg_availability_last_10  \n",
       "0                     98.21  "
      ]
     },
     "execution_count": 64,
     "metadata": {},
     "output_type": "execute_result"
    }
   ],
   "source": [
    "df=execute_sql_query(sql_query)\n",
    "df"
   ]
  },
  {
   "cell_type": "markdown",
   "id": "426ff8c5",
   "metadata": {},
   "source": [
    "Classify Question type for Output"
   ]
  },
  {
   "cell_type": "code",
   "execution_count": 65,
   "id": "b3f61392",
   "metadata": {},
   "outputs": [],
   "source": [
    "def classify_question_type(llm,question):\n",
    "    classification_prompt = f\"\"\" \n",
    "    classify the following user question into one of the following category:\n",
    "    - \"daily_summary\" : Question asking for overall network status for today vs past. \n",
    "    - \"trend\" : Question asking for data trends over time (line charts). \n",
    "    - \" table\" : Question asking for raw tabuler data (top alarms, work orders etc). \n",
    "    - \"compare_period\" : Comparing two different time periods. (e.g. last week vs this week). \n",
    "    - \"top_n\" : Asking for top or worst entities (e.g. top 5 failing nodes). \n",
    "    \n",
    "    Question : \"{question}\" \n",
    "    Answer (just the label):\n",
    "    \n",
    "    \"\"\" \n",
    "    response= llm.predict(classification_prompt)\n",
    "    return response.strip().lower()\n",
    "        \n",
    "    "
   ]
  },
  {
   "cell_type": "code",
   "execution_count": 66,
   "id": "38e62a7b",
   "metadata": {},
   "outputs": [
    {
     "name": "stderr",
     "output_type": "stream",
     "text": [
      "C:\\Users\\Comp\\AppData\\Local\\Temp\\ipykernel_11856\\2768668067.py:14: LangChainDeprecationWarning: The method `BaseChatModel.predict` was deprecated in langchain-core 0.1.7 and will be removed in 1.0. Use :meth:`~invoke` instead.\n",
      "  response= llm.predict(classification_prompt)\n"
     ]
    }
   ],
   "source": [
    "question_type=classify_question_type(llm,user_question)"
   ]
  },
  {
   "cell_type": "code",
   "execution_count": 67,
   "id": "6a973776",
   "metadata": {},
   "outputs": [
    {
     "data": {
      "text/plain": [
       "'\"daily_summary\"'"
      ]
     },
     "execution_count": 67,
     "metadata": {},
     "output_type": "execute_result"
    }
   ],
   "source": [
    "question_type"
   ]
  },
  {
   "cell_type": "code",
   "execution_count": 70,
   "id": "3c2483fe",
   "metadata": {},
   "outputs": [
    {
     "name": "stdout",
     "output_type": "stream",
     "text": [
      "it was a ** Normal Day ** for the network!\n",
      " here is the summary :\n",
      "Alarms today : 2\n",
      "Incidents today : 2\n",
      "Work orders today : 2\n",
      "Availability today : 97.43333333333332\n",
      "Avg alarms last 10 : 1.0\n",
      "Avg incidents last 10 : 0.7\n",
      "Avg work orders last 10 : 0.7\n",
      "Avg availability last 10 : 98.21\n"
     ]
    }
   ],
   "source": [
    "if question_type =='\"daily_summary\"' :\n",
    "    today_vs_avg ={}\n",
    "    score=0\n",
    "    for col in df.columns:\n",
    "        if 'today' in col:\n",
    "            metric_name=col.replace('today_','')\n",
    "            today_val=df[col].iloc[0]\n",
    "            avg_col=f'avg_{metric_name}_7d'\n",
    "            if avg_col in df.columns:\n",
    "                avg_val=df[avg_col].iloc[0]\n",
    "                today_vs_avg[metric_name]=(today_val,avg_val)\n",
    "    for metric,(today,avg)in today_vs_avg.items():\n",
    "        if metric in ['alarms','incidents','wos']:\n",
    "            if today<avg *0.8:\n",
    "                score+=1\n",
    "            elif today> avg*1.2 :\n",
    "                score -= 1\n",
    "        elif metric in ['availability' ,'kpi']:\n",
    "            if today> avg*1.05 :\n",
    "                score += 1\n",
    "            elif today < avg*0.95 :\n",
    "                score -=1\n",
    "                \n",
    "    if score >= 2 : \n",
    "        print( \"it was a ** Good Day ** for the network!\")\n",
    "    elif score <= -2 :\n",
    "        print( \"it was a ** Bad Day ** for the network!\")\n",
    "    else :\n",
    "        print( \"it was a ** Normal Day ** for the network!\")\n",
    "        \n",
    "    print (\" here is the summary :\")\n",
    "    for col in df.columns :\n",
    "        print (f\"{col.replace('_',' ').capitalize()} : {df[col].iloc[0]}\")\n",
    "elif question_type =='\"trend\"' :\n",
    "    df.plot(x=df.columns[0],y=df.columns[1:],kind='line',marker='o')\n",
    "    plt.title(\"Trend\")\n",
    "    plt.xlabel(\"Date\")\n",
    "    plt.ylable(\"Values\")\n",
    "    plt.tight_layout()\n",
    "    plt.show()\n",
    "elif question_type=='\"top_n\"':\n",
    "    print (\"\\n Top-N Entities :\")\n",
    "    print(df)\n",
    "else :\n",
    "    print (\"\\n Raw Table Output :\")\n",
    "    print(df)"
   ]
  }
 ],
 "metadata": {
  "kernelspec": {
   "display_name": "base",
   "language": "python",
   "name": "python3"
  },
  "language_info": {
   "codemirror_mode": {
    "name": "ipython",
    "version": 3
   },
   "file_extension": ".py",
   "mimetype": "text/x-python",
   "name": "python",
   "nbconvert_exporter": "python",
   "pygments_lexer": "ipython3",
   "version": "3.10.9"
  }
 },
 "nbformat": 4,
 "nbformat_minor": 5
}
